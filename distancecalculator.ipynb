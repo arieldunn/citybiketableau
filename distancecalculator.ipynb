{
 "cells": [
  {
   "cell_type": "code",
   "execution_count": 24,
   "source": [
    "pip install geopy"
   ],
   "outputs": [
    {
     "output_type": "stream",
     "name": "stdout",
     "text": [
      "Requirement already satisfied: geopy in /opt/anaconda3/lib/python3.8/site-packages (2.2.0)\n",
      "Requirement already satisfied: geographiclib<2,>=1.49 in /opt/anaconda3/lib/python3.8/site-packages (from geopy) (1.52)\n",
      "Note: you may need to restart the kernel to use updated packages.\n"
     ]
    }
   ],
   "metadata": {}
  },
  {
   "cell_type": "code",
   "execution_count": 25,
   "source": [
    "import geopy.distance\n",
    "\n",
    "coords_1 = (52.2296756, 21.0122287)\n",
    "coords_2 = (52.406374, 16.9251681)\n",
    "\n",
    "print(geopy.distance.distance(coords_1, coords_2).miles)"
   ],
   "outputs": [
    {
     "output_type": "stream",
     "name": "stdout",
     "text": [
      "173.5818455248231\n"
     ]
    }
   ],
   "metadata": {}
  },
  {
   "cell_type": "code",
   "execution_count": 26,
   "source": [
    "import pandas as pd\n",
    "import os,sys\n",
    "from scipy import stats\n",
    "import numpy as np\n"
   ],
   "outputs": [],
   "metadata": {}
  },
  {
   "cell_type": "code",
   "execution_count": 27,
   "source": [
    "df = pd.read_csv(\"Resources/combined.csv\")\n",
    "df.head()"
   ],
   "outputs": [
    {
     "output_type": "stream",
     "name": "stderr",
     "text": [
      "/opt/anaconda3/lib/python3.8/site-packages/IPython/core/interactiveshell.py:3146: DtypeWarning: Columns (0,3,5,6,7,9,10,11,13,14) have mixed types.Specify dtype option on import or set low_memory=False.\n",
      "  has_raised = await self.run_ast_nodes(code_ast.body, cell_name,\n"
     ]
    },
    {
     "output_type": "execute_result",
     "data": {
      "text/html": [
       "<div>\n",
       "<style scoped>\n",
       "    .dataframe tbody tr th:only-of-type {\n",
       "        vertical-align: middle;\n",
       "    }\n",
       "\n",
       "    .dataframe tbody tr th {\n",
       "        vertical-align: top;\n",
       "    }\n",
       "\n",
       "    .dataframe thead th {\n",
       "        text-align: right;\n",
       "    }\n",
       "</style>\n",
       "<table border=\"1\" class=\"dataframe\">\n",
       "  <thead>\n",
       "    <tr style=\"text-align: right;\">\n",
       "      <th></th>\n",
       "      <th>tripduration</th>\n",
       "      <th>starttime</th>\n",
       "      <th>stoptime</th>\n",
       "      <th>start station id</th>\n",
       "      <th>start station name</th>\n",
       "      <th>start station latitude</th>\n",
       "      <th>start station longitude</th>\n",
       "      <th>end station id</th>\n",
       "      <th>end station name</th>\n",
       "      <th>end station latitude</th>\n",
       "      <th>end station longitude</th>\n",
       "      <th>bikeid</th>\n",
       "      <th>usertype</th>\n",
       "      <th>birth year</th>\n",
       "      <th>gender</th>\n",
       "    </tr>\n",
       "  </thead>\n",
       "  <tbody>\n",
       "    <tr>\n",
       "      <th>0</th>\n",
       "      <td>226</td>\n",
       "      <td>2020-01-01 00:04:50.1920</td>\n",
       "      <td>2020-01-01 00:08:37.0370</td>\n",
       "      <td>3186</td>\n",
       "      <td>Grove St PATH</td>\n",
       "      <td>40.71958611647166</td>\n",
       "      <td>-74.04311746358871</td>\n",
       "      <td>3211</td>\n",
       "      <td>Newark Ave</td>\n",
       "      <td>40.72152515</td>\n",
       "      <td>-74.046304543</td>\n",
       "      <td>29444</td>\n",
       "      <td>Subscriber</td>\n",
       "      <td>1984</td>\n",
       "      <td>2</td>\n",
       "    </tr>\n",
       "    <tr>\n",
       "      <th>1</th>\n",
       "      <td>377</td>\n",
       "      <td>2020-01-01 00:16:01.6700</td>\n",
       "      <td>2020-01-01 00:22:19.0800</td>\n",
       "      <td>3186</td>\n",
       "      <td>Grove St PATH</td>\n",
       "      <td>40.71958611647166</td>\n",
       "      <td>-74.04311746358871</td>\n",
       "      <td>3269</td>\n",
       "      <td>Brunswick &amp; 6th</td>\n",
       "      <td>40.72601172964625</td>\n",
       "      <td>-74.05038893222809</td>\n",
       "      <td>26305</td>\n",
       "      <td>Subscriber</td>\n",
       "      <td>1989</td>\n",
       "      <td>2</td>\n",
       "    </tr>\n",
       "    <tr>\n",
       "      <th>2</th>\n",
       "      <td>288</td>\n",
       "      <td>2020-01-01 00:17:33.8770</td>\n",
       "      <td>2020-01-01 00:22:22.4420</td>\n",
       "      <td>3186</td>\n",
       "      <td>Grove St PATH</td>\n",
       "      <td>40.71958611647166</td>\n",
       "      <td>-74.04311746358871</td>\n",
       "      <td>3269</td>\n",
       "      <td>Brunswick &amp; 6th</td>\n",
       "      <td>40.72601172964625</td>\n",
       "      <td>-74.05038893222809</td>\n",
       "      <td>29268</td>\n",
       "      <td>Customer</td>\n",
       "      <td>1989</td>\n",
       "      <td>1</td>\n",
       "    </tr>\n",
       "    <tr>\n",
       "      <th>3</th>\n",
       "      <td>435</td>\n",
       "      <td>2020-01-01 00:32:05.9020</td>\n",
       "      <td>2020-01-01 00:39:21.0660</td>\n",
       "      <td>3195</td>\n",
       "      <td>Sip Ave</td>\n",
       "      <td>40.73089709786179</td>\n",
       "      <td>-74.06391263008118</td>\n",
       "      <td>3280</td>\n",
       "      <td>Astor Place</td>\n",
       "      <td>40.71928220070702</td>\n",
       "      <td>-74.07126188278198</td>\n",
       "      <td>29278</td>\n",
       "      <td>Customer</td>\n",
       "      <td>1969</td>\n",
       "      <td>0</td>\n",
       "    </tr>\n",
       "    <tr>\n",
       "      <th>4</th>\n",
       "      <td>231</td>\n",
       "      <td>2020-01-01 00:46:19.6780</td>\n",
       "      <td>2020-01-01 00:50:11.3440</td>\n",
       "      <td>3186</td>\n",
       "      <td>Grove St PATH</td>\n",
       "      <td>40.71958611647166</td>\n",
       "      <td>-74.04311746358871</td>\n",
       "      <td>3276</td>\n",
       "      <td>Marin Light Rail</td>\n",
       "      <td>40.71458403535893</td>\n",
       "      <td>-74.04281705617905</td>\n",
       "      <td>29276</td>\n",
       "      <td>Subscriber</td>\n",
       "      <td>1983</td>\n",
       "      <td>2</td>\n",
       "    </tr>\n",
       "  </tbody>\n",
       "</table>\n",
       "</div>"
      ],
      "text/plain": [
       "  tripduration                 starttime                  stoptime  \\\n",
       "0          226  2020-01-01 00:04:50.1920  2020-01-01 00:08:37.0370   \n",
       "1          377  2020-01-01 00:16:01.6700  2020-01-01 00:22:19.0800   \n",
       "2          288  2020-01-01 00:17:33.8770  2020-01-01 00:22:22.4420   \n",
       "3          435  2020-01-01 00:32:05.9020  2020-01-01 00:39:21.0660   \n",
       "4          231  2020-01-01 00:46:19.6780  2020-01-01 00:50:11.3440   \n",
       "\n",
       "  start station id start station name start station latitude  \\\n",
       "0             3186      Grove St PATH      40.71958611647166   \n",
       "1             3186      Grove St PATH      40.71958611647166   \n",
       "2             3186      Grove St PATH      40.71958611647166   \n",
       "3             3195            Sip Ave      40.73089709786179   \n",
       "4             3186      Grove St PATH      40.71958611647166   \n",
       "\n",
       "  start station longitude end station id  end station name  \\\n",
       "0      -74.04311746358871           3211        Newark Ave   \n",
       "1      -74.04311746358871           3269   Brunswick & 6th   \n",
       "2      -74.04311746358871           3269   Brunswick & 6th   \n",
       "3      -74.06391263008118           3280       Astor Place   \n",
       "4      -74.04311746358871           3276  Marin Light Rail   \n",
       "\n",
       "  end station latitude end station longitude bikeid    usertype birth year  \\\n",
       "0          40.72152515         -74.046304543  29444  Subscriber       1984   \n",
       "1    40.72601172964625    -74.05038893222809  26305  Subscriber       1989   \n",
       "2    40.72601172964625    -74.05038893222809  29268    Customer       1989   \n",
       "3    40.71928220070702    -74.07126188278198  29278    Customer       1969   \n",
       "4    40.71458403535893    -74.04281705617905  29276  Subscriber       1983   \n",
       "\n",
       "  gender  \n",
       "0      2  \n",
       "1      2  \n",
       "2      1  \n",
       "3      0  \n",
       "4      2  "
      ]
     },
     "metadata": {},
     "execution_count": 27
    }
   ],
   "metadata": {}
  },
  {
   "cell_type": "code",
   "execution_count": 28,
   "source": [
    "def get_distance(row):\n",
    "    coords_1 = (row[\"start station latitude\"], row[\"start station longitude\"])\n",
    "    coords_2 = (row[\"end station latitude\"],row[\"end station longitude\"])\n",
    "    return geopy.distance.distance(coords_1, coords_2).miles"
   ],
   "outputs": [],
   "metadata": {}
  },
  {
   "cell_type": "code",
   "execution_count": 29,
   "source": [
    "df['start station latitude'] = pd.to_numeric(df['start station latitude'], errors='coerce')"
   ],
   "outputs": [],
   "metadata": {}
  },
  {
   "cell_type": "code",
   "execution_count": 30,
   "source": [
    "df['start station longitude'] = pd.to_numeric(df['start station longitude'], errors='coerce')"
   ],
   "outputs": [],
   "metadata": {}
  },
  {
   "cell_type": "code",
   "execution_count": 31,
   "source": [
    "df['end station latitude'] = pd.to_numeric(df['end station latitude'], errors='coerce')"
   ],
   "outputs": [],
   "metadata": {}
  },
  {
   "cell_type": "code",
   "execution_count": 32,
   "source": [
    "df['end station longitude'] = pd.to_numeric(df['end station longitude'], errors='coerce')"
   ],
   "outputs": [],
   "metadata": {}
  },
  {
   "cell_type": "code",
   "execution_count": 34,
   "source": [
    "df=df.dropna(subset=['start station longitude'])\n",
    "\n",
    "df=df.dropna(subset=['start station latitude'])"
   ],
   "outputs": [],
   "metadata": {}
  },
  {
   "cell_type": "code",
   "execution_count": 23,
   "source": [
    "df=df.dropna(subset=['end station longitude'])\n",
    "\n",
    "df=df.dropna(subset=['end station latitude'])"
   ],
   "outputs": [],
   "metadata": {}
  },
  {
   "cell_type": "code",
   "execution_count": 35,
   "source": [
    "df[\"tripdistance (miles)\"] = df.apply(get_distance, axis=1)\n"
   ],
   "outputs": [],
   "metadata": {}
  },
  {
   "cell_type": "code",
   "execution_count": 14,
   "source": [
    "pip install ARC-Alkali-Rydberg-Calculator"
   ],
   "outputs": [
    {
     "output_type": "stream",
     "name": "stdout",
     "text": [
      "Collecting ARC-Alkali-Rydberg-Calculator\n",
      "  Downloading ARC_Alkali_Rydberg_Calculator-3.0.21-cp38-cp38-macosx_10_15_x86_64.whl (27.2 MB)\n",
      "\u001b[K     |████████████████████████████████| 27.2 MB 2.9 MB/s \n",
      "\u001b[?25hRequirement already satisfied: sympy>=1.1.1 in /opt/anaconda3/lib/python3.8/site-packages (from ARC-Alkali-Rydberg-Calculator) (1.6.2)\n",
      "Collecting lmfit>=0.9.0\n",
      "  Downloading lmfit-1.0.2.tar.gz (306 kB)\n",
      "\u001b[K     |████████████████████████████████| 306 kB 10.7 MB/s \n",
      "\u001b[?25hRequirement already satisfied: numpy>=1.16.0 in /Users/arieldunn/.local/lib/python3.8/site-packages (from ARC-Alkali-Rydberg-Calculator) (1.19.5)\n",
      "Requirement already satisfied: matplotlib>=1.5.3 in /opt/anaconda3/lib/python3.8/site-packages (from ARC-Alkali-Rydberg-Calculator) (3.3.2)\n",
      "Requirement already satisfied: scipy>=0.18.1 in /opt/anaconda3/lib/python3.8/site-packages (from ARC-Alkali-Rydberg-Calculator) (1.5.2)\n",
      "Requirement already satisfied: mpmath>=0.19 in /opt/anaconda3/lib/python3.8/site-packages (from sympy>=1.1.1->ARC-Alkali-Rydberg-Calculator) (1.1.0)\n",
      "Collecting asteval>=0.9.16\n",
      "  Downloading asteval-0.9.25.tar.gz (39 kB)\n",
      "Collecting uncertainties>=3.0.1\n",
      "  Downloading uncertainties-3.1.6-py2.py3-none-any.whl (98 kB)\n",
      "\u001b[K     |████████████████████████████████| 98 kB 2.4 MB/s \n",
      "\u001b[?25hRequirement already satisfied: cycler>=0.10 in /opt/anaconda3/lib/python3.8/site-packages (from matplotlib>=1.5.3->ARC-Alkali-Rydberg-Calculator) (0.10.0)\n",
      "Requirement already satisfied: kiwisolver>=1.0.1 in /opt/anaconda3/lib/python3.8/site-packages (from matplotlib>=1.5.3->ARC-Alkali-Rydberg-Calculator) (1.3.0)\n",
      "Requirement already satisfied: certifi>=2020.06.20 in /Users/arieldunn/.local/lib/python3.8/site-packages (from matplotlib>=1.5.3->ARC-Alkali-Rydberg-Calculator) (2021.5.30)\n",
      "Requirement already satisfied: pyparsing!=2.0.4,!=2.1.2,!=2.1.6,>=2.0.3 in /opt/anaconda3/lib/python3.8/site-packages (from matplotlib>=1.5.3->ARC-Alkali-Rydberg-Calculator) (2.4.7)\n",
      "Requirement already satisfied: pillow>=6.2.0 in /opt/anaconda3/lib/python3.8/site-packages (from matplotlib>=1.5.3->ARC-Alkali-Rydberg-Calculator) (8.0.1)\n",
      "Requirement already satisfied: python-dateutil>=2.1 in /opt/anaconda3/lib/python3.8/site-packages (from matplotlib>=1.5.3->ARC-Alkali-Rydberg-Calculator) (2.8.1)\n",
      "Requirement already satisfied: future in /opt/anaconda3/lib/python3.8/site-packages (from uncertainties>=3.0.1->lmfit>=0.9.0->ARC-Alkali-Rydberg-Calculator) (0.18.2)\n",
      "Requirement already satisfied: six in /Users/arieldunn/.local/lib/python3.8/site-packages (from cycler>=0.10->matplotlib>=1.5.3->ARC-Alkali-Rydberg-Calculator) (1.15.0)\n",
      "Building wheels for collected packages: lmfit, asteval\n",
      "  Building wheel for lmfit (setup.py) ... \u001b[?25ldone\n",
      "\u001b[?25h  Created wheel for lmfit: filename=lmfit-1.0.2-py3-none-any.whl size=85275 sha256=227fe9df1baa4e3a4fd9f8387cabe9db4c8985ece4d81b340ecd02e476fa28a2\n",
      "  Stored in directory: /Users/arieldunn/Library/Caches/pip/wheels/2c/17/f4/1ec5177c8589e18c329907db7db4f1c4524bb73251d34f3622\n",
      "  Building wheel for asteval (setup.py) ... \u001b[?25ldone\n",
      "\u001b[?25h  Created wheel for asteval: filename=asteval-0.9.25-py3-none-any.whl size=17301 sha256=ae808d209721c063d602a416f06a956e7e657fbc957607cfdf92c19889601f2b\n",
      "  Stored in directory: /Users/arieldunn/Library/Caches/pip/wheels/9d/52/8e/9892a79fe41878280e133d5bd233a0d73dcab6f8dfd9a0e8cd\n",
      "Successfully built lmfit asteval\n",
      "Installing collected packages: asteval, uncertainties, lmfit, ARC-Alkali-Rydberg-Calculator\n",
      "Successfully installed ARC-Alkali-Rydberg-Calculator-3.0.21 asteval-0.9.25 lmfit-1.0.2 uncertainties-3.1.6\n",
      "Note: you may need to restart the kernel to use updated packages.\n"
     ]
    }
   ],
   "metadata": {}
  },
  {
   "cell_type": "code",
   "execution_count": 37,
   "source": [
    "df[\"tripdistance (miles)\"] = df.apply(get_distance, axis=1)\n"
   ],
   "outputs": [],
   "metadata": {}
  }
 ],
 "metadata": {
  "orig_nbformat": 4,
  "language_info": {
   "name": "python",
   "version": "3.8.5",
   "mimetype": "text/x-python",
   "codemirror_mode": {
    "name": "ipython",
    "version": 3
   },
   "pygments_lexer": "ipython3",
   "nbconvert_exporter": "python",
   "file_extension": ".py"
  },
  "kernelspec": {
   "name": "python3",
   "display_name": "Python 3.8.5 64-bit ('base': conda)"
  },
  "interpreter": {
   "hash": "dca0ade3e726a953b501b15e8e990130d2b7799f14cfd9f4271676035ebe5511"
  }
 },
 "nbformat": 4,
 "nbformat_minor": 2
}